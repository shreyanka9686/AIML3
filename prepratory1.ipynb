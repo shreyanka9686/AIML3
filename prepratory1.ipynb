{
 "cells": [
  {
   "cell_type": "code",
   "execution_count": 22,
   "id": "c32c4fa9-ee1c-4b10-81d7-d91bf1f48541",
   "metadata": {},
   "outputs": [
    {
     "name": "stdout",
     "output_type": "stream",
     "text": [
      "the 1st array is: [10 20 30 40 50]\n",
      "the 2nd array is: [ 60  70  80  90 100]\n"
     ]
    }
   ],
   "source": [
    "import numpy as np \n",
    "arr1=np.array([10,20,30,40,50])\n",
    "arr2=np.array([60,70,80,90,100])\n",
    "print(\"the 1st array is:\",arr1)\n",
    "print(\"the 2nd array is:\",arr2)"
   ]
  },
  {
   "cell_type": "code",
   "execution_count": 23,
   "id": "48bf8ed8-6a5e-4dc1-8f77-1c7f48bf52e8",
   "metadata": {},
   "outputs": [
    {
     "name": "stdout",
     "output_type": "stream",
     "text": [
      "the addition of two arrays are: [ 70  90 110 130 150]\n"
     ]
    }
   ],
   "source": [
    "# vectorized oprations\n",
    "#addition\n",
    "add=arr1+arr2 \n",
    "print(\"the addition of two arrays are:\",add)"
   ]
  },
  {
   "cell_type": "code",
   "execution_count": 24,
   "id": "9b724759-4c35-468a-9a36-700070ca7d21",
   "metadata": {},
   "outputs": [
    {
     "name": "stdout",
     "output_type": "stream",
     "text": [
      "the subtraction of two arrays are: [-50 -50 -50 -50 -50]\n"
     ]
    }
   ],
   "source": [
    "#subtraction\n",
    "sub=arr1-arr2 \n",
    "print(\"the subtraction of two arrays are:\",sub)"
   ]
  },
  {
   "cell_type": "code",
   "execution_count": 25,
   "id": "051ee77b-fca0-4269-8c53-3cd075f3bc30",
   "metadata": {},
   "outputs": [
    {
     "name": "stdout",
     "output_type": "stream",
     "text": [
      "the multiplication of two arrays are: [ 600 1400 2400 3600 5000]\n"
     ]
    }
   ],
   "source": [
    "# multiplication\n",
    "mul=arr1*arr2 \n",
    "print(\"the multiplication of two arrays are:\",mul)"
   ]
  },
  {
   "cell_type": "code",
   "execution_count": 26,
   "id": "c92742e4-c9e8-4a1e-b4d4-80fc6cf6ef7a",
   "metadata": {},
   "outputs": [
    {
     "name": "stdout",
     "output_type": "stream",
     "text": [
      "the devision of two arrays are: [0.16666667 0.28571429 0.375      0.44444444 0.5       ]\n"
     ]
    }
   ],
   "source": [
    "#devision\n",
    "dev=arr1/arr2 \n",
    "print(\"the devision of two arrays are:\",dev)"
   ]
  },
  {
   "cell_type": "code",
   "execution_count": 27,
   "id": "09395014-b672-4124-a702-a468b54de4a1",
   "metadata": {},
   "outputs": [
    {
     "data": {
      "text/html": [
       "<div>\n",
       "<style scoped>\n",
       "    .dataframe tbody tr th:only-of-type {\n",
       "        vertical-align: middle;\n",
       "    }\n",
       "\n",
       "    .dataframe tbody tr th {\n",
       "        vertical-align: top;\n",
       "    }\n",
       "\n",
       "    .dataframe thead th {\n",
       "        text-align: right;\n",
       "    }\n",
       "</style>\n",
       "<table border=\"1\" class=\"dataframe\">\n",
       "  <thead>\n",
       "    <tr style=\"text-align: right;\">\n",
       "      <th></th>\n",
       "      <th>name</th>\n",
       "      <th>age</th>\n",
       "      <th>branch</th>\n",
       "      <th>science</th>\n",
       "      <th>maths</th>\n",
       "      <th>english</th>\n",
       "      <th>marks</th>\n",
       "      <th>average</th>\n",
       "      <th>result</th>\n",
       "    </tr>\n",
       "  </thead>\n",
       "  <tbody>\n",
       "    <tr>\n",
       "      <th>0</th>\n",
       "      <td>anusha</td>\n",
       "      <td>18</td>\n",
       "      <td>CS</td>\n",
       "      <td>86</td>\n",
       "      <td>45</td>\n",
       "      <td>45</td>\n",
       "      <td>38</td>\n",
       "      <td>58.666667</td>\n",
       "      <td>fail</td>\n",
       "    </tr>\n",
       "    <tr>\n",
       "      <th>1</th>\n",
       "      <td>shreya</td>\n",
       "      <td>19</td>\n",
       "      <td>EC</td>\n",
       "      <td>49</td>\n",
       "      <td>76</td>\n",
       "      <td>6787</td>\n",
       "      <td>6912</td>\n",
       "      <td>2304.000000</td>\n",
       "      <td>pass</td>\n",
       "    </tr>\n",
       "    <tr>\n",
       "      <th>2</th>\n",
       "      <td>anusha</td>\n",
       "      <td>20</td>\n",
       "      <td>Civil</td>\n",
       "      <td>20</td>\n",
       "      <td>89</td>\n",
       "      <td>65</td>\n",
       "      <td>174</td>\n",
       "      <td>58.000000</td>\n",
       "      <td>fail</td>\n",
       "    </tr>\n",
       "    <tr>\n",
       "      <th>3</th>\n",
       "      <td>divya</td>\n",
       "      <td>17</td>\n",
       "      <td>CS</td>\n",
       "      <td>95</td>\n",
       "      <td>45</td>\n",
       "      <td>95</td>\n",
       "      <td>235</td>\n",
       "      <td>78.333333</td>\n",
       "      <td>pass</td>\n",
       "    </tr>\n",
       "    <tr>\n",
       "      <th>4</th>\n",
       "      <td>thanu</td>\n",
       "      <td>21</td>\n",
       "      <td>EC</td>\n",
       "      <td>60</td>\n",
       "      <td>23</td>\n",
       "      <td>88</td>\n",
       "      <td>171</td>\n",
       "      <td>57.000000</td>\n",
       "      <td>fail</td>\n",
       "    </tr>\n",
       "  </tbody>\n",
       "</table>\n",
       "</div>"
      ],
      "text/plain": [
       "     name  age branch  science  maths  english  marks      average result\n",
       "0  anusha   18     CS       86     45       45     38    58.666667   fail\n",
       "1  shreya   19     EC       49     76     6787   6912  2304.000000   pass\n",
       "2  anusha   20  Civil       20     89       65    174    58.000000   fail\n",
       "3   divya   17    CS        95     45       95    235    78.333333   pass\n",
       "4   thanu   21     EC       60     23       88    171    57.000000   fail"
      ]
     },
     "execution_count": 27,
     "metadata": {},
     "output_type": "execute_result"
    }
   ],
   "source": [
    "import pandas as pd \n",
    "import matplotlib.pyplot as plt \n",
    "df=pd.read_csv(\"Desktop/student_details.csv\")\n",
    "df"
   ]
  },
  {
   "cell_type": "code",
   "execution_count": 28,
   "id": "3f3fa825-a4f8-4355-8e15-5cda777b1de0",
   "metadata": {},
   "outputs": [
    {
     "data": {
      "text/plain": [
       "0      43\n",
       "1    6917\n",
       "2     179\n",
       "3     240\n",
       "4     176\n",
       "Name: add_marks, dtype: int64"
      ]
     },
     "execution_count": 28,
     "metadata": {},
     "output_type": "execute_result"
    }
   ],
   "source": [
    "# using map function\n",
    "df['add_marks']=df['marks'].map(lambda x:x+5)\n",
    "df['add_marks']"
   ]
  },
  {
   "cell_type": "code",
   "execution_count": 30,
   "id": "a1f299fe-c8b8-4c7b-b0dd-a6ff34823a65",
   "metadata": {},
   "outputs": [
    {
     "data": {
      "text/html": [
       "<div>\n",
       "<style scoped>\n",
       "    .dataframe tbody tr th:only-of-type {\n",
       "        vertical-align: middle;\n",
       "    }\n",
       "\n",
       "    .dataframe tbody tr th {\n",
       "        vertical-align: top;\n",
       "    }\n",
       "\n",
       "    .dataframe thead th {\n",
       "        text-align: right;\n",
       "    }\n",
       "</style>\n",
       "<table border=\"1\" class=\"dataframe\">\n",
       "  <thead>\n",
       "    <tr style=\"text-align: right;\">\n",
       "      <th></th>\n",
       "      <th>name</th>\n",
       "      <th>age</th>\n",
       "      <th>branch</th>\n",
       "      <th>science</th>\n",
       "      <th>maths</th>\n",
       "      <th>english</th>\n",
       "      <th>marks</th>\n",
       "      <th>average</th>\n",
       "      <th>result</th>\n",
       "      <th>add_marks</th>\n",
       "    </tr>\n",
       "  </thead>\n",
       "  <tbody>\n",
       "    <tr>\n",
       "      <th>1</th>\n",
       "      <td>shreya</td>\n",
       "      <td>19</td>\n",
       "      <td>EC</td>\n",
       "      <td>49</td>\n",
       "      <td>76</td>\n",
       "      <td>6787</td>\n",
       "      <td>6912</td>\n",
       "      <td>2304.000000</td>\n",
       "      <td>pass</td>\n",
       "      <td>6917</td>\n",
       "    </tr>\n",
       "    <tr>\n",
       "      <th>2</th>\n",
       "      <td>anusha</td>\n",
       "      <td>20</td>\n",
       "      <td>Civil</td>\n",
       "      <td>20</td>\n",
       "      <td>89</td>\n",
       "      <td>65</td>\n",
       "      <td>174</td>\n",
       "      <td>58.000000</td>\n",
       "      <td>fail</td>\n",
       "      <td>179</td>\n",
       "    </tr>\n",
       "    <tr>\n",
       "      <th>3</th>\n",
       "      <td>divya</td>\n",
       "      <td>17</td>\n",
       "      <td>CS</td>\n",
       "      <td>95</td>\n",
       "      <td>45</td>\n",
       "      <td>95</td>\n",
       "      <td>235</td>\n",
       "      <td>78.333333</td>\n",
       "      <td>pass</td>\n",
       "      <td>240</td>\n",
       "    </tr>\n",
       "    <tr>\n",
       "      <th>4</th>\n",
       "      <td>thanu</td>\n",
       "      <td>21</td>\n",
       "      <td>EC</td>\n",
       "      <td>60</td>\n",
       "      <td>23</td>\n",
       "      <td>88</td>\n",
       "      <td>171</td>\n",
       "      <td>57.000000</td>\n",
       "      <td>fail</td>\n",
       "      <td>176</td>\n",
       "    </tr>\n",
       "  </tbody>\n",
       "</table>\n",
       "</div>"
      ],
      "text/plain": [
       "     name  age branch  science  maths  english  marks      average result  add_marks\n",
       "1  shreya   19     EC       49     76     6787   6912  2304.000000   pass       6917\n",
       "2  anusha   20  Civil       20     89       65    174    58.000000   fail        179\n",
       "3   divya   17    CS        95     45       95    235    78.333333   pass        240\n",
       "4   thanu   21     EC       60     23       88    171    57.000000   fail        176"
      ]
     },
     "execution_count": 30,
     "metadata": {},
     "output_type": "execute_result"
    }
   ],
   "source": [
    "filter=df[df['marks'].apply(lambda x:x>40)]\n",
    "filter"
   ]
  },
  {
   "cell_type": "code",
   "execution_count": 60,
   "id": "a45a5a3b-8dfd-48db-a2f7-f5bfb7b8011d",
   "metadata": {},
   "outputs": [
    {
     "data": {
      "image/png": "[encoded data removed]",
      "text/plain": [
       "<Figure size 640x480 with 1 Axes>"
      ]
     },
     "metadata": {},
     "output_type": "display_data"
    }
   ],
   "source": [
    "# scatter plot \n",
    "plt.scatter(df[\"branch\"],df[\"marks\"])\n",
    "plt.xlabel(\"branch of the students\")\n",
    "plt.ylabel(\"marks of the students\")\n",
    "plt.title(\"scatter plot\")\n",
    "plt.show()"
   ]
  },
  {
   "cell_type": "code",
   "execution_count": 55,
   "id": "b978873a-4db5-4842-8576-4c28e171aefa",
   "metadata": {},
   "outputs": [
    {
     "data": {
      "text/html": [
       "<div>\n",
       "<style scoped>\n",
       "    .dataframe tbody tr th:only-of-type {\n",
       "        vertical-align: middle;\n",
       "    }\n",
       "\n",
       "    .dataframe tbody tr th {\n",
       "        vertical-align: top;\n",
       "    }\n",
       "\n",
       "    .dataframe thead th {\n",
       "        text-align: right;\n",
       "    }\n",
       "</style>\n",
       "<table border=\"1\" class=\"dataframe\">\n",
       "  <thead>\n",
       "    <tr style=\"text-align: right;\">\n",
       "      <th></th>\n",
       "      <th>name</th>\n",
       "      <th>age</th>\n",
       "      <th>branch</th>\n",
       "      <th>science</th>\n",
       "      <th>maths</th>\n",
       "      <th>english</th>\n",
       "      <th>marks</th>\n",
       "      <th>average</th>\n",
       "      <th>result</th>\n",
       "      <th>add_marks</th>\n",
       "    </tr>\n",
       "  </thead>\n",
       "  <tbody>\n",
       "    <tr>\n",
       "      <th>0</th>\n",
       "      <td>anusha</td>\n",
       "      <td>18</td>\n",
       "      <td>CS</td>\n",
       "      <td>86</td>\n",
       "      <td>45</td>\n",
       "      <td>45</td>\n",
       "      <td>38</td>\n",
       "      <td>58.666667</td>\n",
       "      <td>fail</td>\n",
       "      <td>43</td>\n",
       "    </tr>\n",
       "    <tr>\n",
       "      <th>1</th>\n",
       "      <td>shreya</td>\n",
       "      <td>19</td>\n",
       "      <td>EC</td>\n",
       "      <td>49</td>\n",
       "      <td>76</td>\n",
       "      <td>6787</td>\n",
       "      <td>6912</td>\n",
       "      <td>2304.000000</td>\n",
       "      <td>pass</td>\n",
       "      <td>6917</td>\n",
       "    </tr>\n",
       "    <tr>\n",
       "      <th>2</th>\n",
       "      <td>anusha</td>\n",
       "      <td>20</td>\n",
       "      <td>Civil</td>\n",
       "      <td>20</td>\n",
       "      <td>89</td>\n",
       "      <td>65</td>\n",
       "      <td>174</td>\n",
       "      <td>58.000000</td>\n",
       "      <td>fail</td>\n",
       "      <td>179</td>\n",
       "    </tr>\n",
       "    <tr>\n",
       "      <th>3</th>\n",
       "      <td>divya</td>\n",
       "      <td>17</td>\n",
       "      <td>CS</td>\n",
       "      <td>95</td>\n",
       "      <td>45</td>\n",
       "      <td>95</td>\n",
       "      <td>235</td>\n",
       "      <td>78.333333</td>\n",
       "      <td>pass</td>\n",
       "      <td>240</td>\n",
       "    </tr>\n",
       "    <tr>\n",
       "      <th>4</th>\n",
       "      <td>thanu</td>\n",
       "      <td>21</td>\n",
       "      <td>EC</td>\n",
       "      <td>60</td>\n",
       "      <td>23</td>\n",
       "      <td>88</td>\n",
       "      <td>171</td>\n",
       "      <td>57.000000</td>\n",
       "      <td>fail</td>\n",
       "      <td>176</td>\n",
       "    </tr>\n",
       "  </tbody>\n",
       "</table>\n",
       "</div>"
      ],
      "text/plain": [
       "     name  age branch  science  maths  english  marks      average result  add_marks\n",
       "0  anusha   18     CS       86     45       45     38    58.666667   fail         43\n",
       "1  shreya   19     EC       49     76     6787   6912  2304.000000   pass       6917\n",
       "2  anusha   20  Civil       20     89       65    174    58.000000   fail        179\n",
       "3   divya   17    CS        95     45       95    235    78.333333   pass        240\n",
       "4   thanu   21     EC       60     23       88    171    57.000000   fail        176"
      ]
     },
     "execution_count": 55,
     "metadata": {},
     "output_type": "execute_result"
    }
   ],
   "source": [
    "df"
   ]
  },
  {
   "cell_type": "code",
   "execution_count": 59,
   "id": "95001447-06e7-4381-8fd0-ae179f742da5",
   "metadata": {},
   "outputs": [
    {
     "data": {
      "image/png": "[encoded data removed]",
      "text/plain": [
       "<Figure size 640x480 with 1 Axes>"
      ]
     },
     "metadata": {},
     "output_type": "display_data"
    }
   ],
   "source": [
    "a=df.groupby([\"result\",\"marks\"]).size().unstack()\n",
    "a.plot(kind=\"bar\")\n",
    "plt.title(\"bar graph\")\n",
    "plt.show()"
   ]
  },
  {
   "cell_type": "code",
   "execution_count": null,
   "id": "752c1375-67bd-4042-be5f-4b88643a9742",
   "metadata": {},
   "outputs": [],
   "source": []
  }
 ],
 "metadata": {
  "kernelspec": {
   "display_name": "Python 3 (ipykernel)",
   "language": "python",
   "name": "python3"
  },
  "language_info": {
   "codemirror_mode": {
    "name": "ipython",
    "version": 3
   },
   "file_extension": ".py",
   "mimetype": "text/x-python",
   "name": "python",
   "nbconvert_exporter": "python",
   "pygments_lexer": "ipython3",
   "version": "3.13.5"
  }
 },
 "nbformat": 4,
 "nbformat_minor": 5
}
